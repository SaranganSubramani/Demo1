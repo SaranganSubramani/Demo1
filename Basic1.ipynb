{
 "cells": [
  {
   "cell_type": "code",
   "execution_count": 13,
   "id": "c9b2c4b7-8641-44f8-85b3-de069d1d1286",
   "metadata": {},
   "outputs": [
    {
     "name": "stdout",
     "output_type": "stream",
     "text": [
      "<class 'str'>\n"
     ]
    }
   ],
   "source": [
    "str=\"hello world\"\n",
    "print(type(str))"
   ]
  },
  {
   "cell_type": "code",
   "execution_count": 15,
   "id": "29cffbae-3753-4d1e-be8b-e4e9f88dc02c",
   "metadata": {},
   "outputs": [
    {
     "name": "stdout",
     "output_type": "stream",
     "text": [
      "<class 'list'>\n"
     ]
    }
   ],
   "source": [
    "mylist = ['python', 'programming', 'examples', 'programs']\n",
    "print(type(mylist))"
   ]
  },
  {
   "cell_type": "code",
   "execution_count": 16,
   "id": "016b0af4-9045-4fe8-8502-e0d8fa5cf725",
   "metadata": {},
   "outputs": [
    {
     "name": "stdout",
     "output_type": "stream",
     "text": [
      "<class 'function'>\n"
     ]
    }
   ],
   "source": [
    "def myfunc():\n",
    "    return \"\"\n",
    "print(type(myfunc))"
   ]
  },
  {
   "cell_type": "code",
   "execution_count": 18,
   "id": "39f42fd5-4329-440d-8e1b-105df3992380",
   "metadata": {},
   "outputs": [
    {
     "name": "stdout",
     "output_type": "stream",
     "text": [
      "python\n",
      "programming\n",
      "examples\n",
      "programs\n",
      "demo\n"
     ]
    }
   ],
   "source": [
    "#For Loop with List\n",
    "#name list\n",
    "mylist = ['python', 'programming', 'examples', 'programs']\n",
    "\n",
    "mylist= mylist + [\"demo\"]\n",
    "\n",
    "for x in mylist:\n",
    "    print(x)"
   ]
  },
  {
   "cell_type": "code",
   "execution_count": 20,
   "id": "2682f555-c545-45fc-a7b0-c3f0c1100726",
   "metadata": {},
   "outputs": [
    {
     "name": "stdout",
     "output_type": "stream",
     "text": [
      "['__add__', '__class__', '__class_getitem__', '__contains__', '__delattr__', '__delitem__', '__dir__', '__doc__', '__eq__', '__format__', '__ge__', '__getattribute__', '__getitem__', '__gt__', '__hash__', '__iadd__', '__imul__', '__init__', '__init_subclass__', '__iter__', '__le__', '__len__', '__lt__', '__mul__', '__ne__', '__new__', '__reduce__', '__reduce_ex__', '__repr__', '__reversed__', '__rmul__', '__setattr__', '__setitem__', '__sizeof__', '__str__', '__subclasshook__', 'append', 'clear', 'copy', 'count', 'extend', 'index', 'insert', 'pop', 'remove', 'reverse', 'sort']\n"
     ]
    }
   ],
   "source": [
    "print(dir(mylist))"
   ]
  },
  {
   "cell_type": "code",
   "execution_count": 22,
   "id": "1e239691-05af-4d7e-a6a2-d087b78f9c09",
   "metadata": {},
   "outputs": [
    {
     "name": "stdout",
     "output_type": "stream",
     "text": [
      "139888897636784\n",
      "139888897636944\n",
      "139888897636944\n",
      "139888897636944\n"
     ]
    }
   ],
   "source": [
    "number1=5\n",
    "number2=10\n",
    "print(id(number1))\n",
    "print(id(number2))\n",
    "number1= number2\n",
    "print(id(number1))\n",
    "print(id(number2))"
   ]
  },
  {
   "cell_type": "code",
   "execution_count": 29,
   "id": "2b854962-1fa5-4cce-8f8a-695ec2f4f348",
   "metadata": {},
   "outputs": [
    {
     "name": "stdout",
     "output_type": "stream",
     "text": [
      "[1, 2, 3, 4]\n",
      "[1, 2, 3, 4]\n",
      "[1, 2, 3, 4]\n",
      "[1, 2, 3]\n"
     ]
    }
   ],
   "source": [
    "a=[1,2,3]\n",
    "b=a\n",
    "a.append(4)\n",
    "\n",
    "print(a)\n",
    "print(b)\n",
    "\n",
    "c=[1,2,3]\n",
    "d= c.copy()\n",
    "c.append(4)\n",
    "print(c)\n",
    "print(d)"
   ]
  },
  {
   "cell_type": "code",
   "execution_count": 12,
   "id": "d8198540-00be-49e2-9bd1-c902f7071397",
   "metadata": {},
   "outputs": [
    {
     "name": "stdout",
     "output_type": "stream",
     "text": [
      "python\n",
      "programming\n",
      "examples\n",
      "programs\n"
     ]
    }
   ],
   "source": [
    "#tuple is similar to lists since the value of the items stored in the list can be changed, whereas the tuple is immutable\n",
    "#For Loop with Tuple\n",
    "#use obj\n",
    "mytuple = ('python', 'programming', 'examples', 'programs')\n",
    "\n",
    "for x in mytuple:\n",
    "    print(x)"
   ]
  },
  {
   "cell_type": "code",
   "execution_count": 5,
   "id": "9f481b38-eaf3-46d4-ba1f-6954557e0a96",
   "metadata": {},
   "outputs": [
    {
     "name": "stdout",
     "output_type": "stream",
     "text": [
      "name : python\n",
      "category : programming\n",
      "topic : examples\n"
     ]
    }
   ],
   "source": [
    "#For Loop with Dict\n",
    "mydictionary = {'name':'python', 'category':'programming', 'topic':'examples'}\n",
    "\n",
    "for x in mydictionary:\n",
    "    print(x, ':', mydictionary[x])"
   ]
  },
  {
   "cell_type": "code",
   "execution_count": null,
   "id": "2fa38028-3634-411d-a00f-db4b34913811",
   "metadata": {},
   "outputs": [],
   "source": [
    "#For Loop with String\n",
    "mystring = 'pythonexamples'\n",
    "\n",
    "for x in mystring:\n",
    "    print(x)"
   ]
  },
  {
   "cell_type": "markdown",
   "id": "a6daf395-0728-4cea-bda9-e99b7c4ac037",
   "metadata": {},
   "source": [
    "Python Type Casting"
   ]
  },
  {
   "cell_type": "code",
   "execution_count": 6,
   "id": "d07efca0-de2a-4280-b510-68d42cc19720",
   "metadata": {},
   "outputs": [
    {
     "name": "stdout",
     "output_type": "stream",
     "text": [
      "100.0\n",
      "<class 'float'>\n",
      "100\n",
      "<class 'str'>\n"
     ]
    }
   ],
   "source": [
    "#integer\n",
    "n = 100\n",
    "\n",
    "#float\n",
    "f = float(n)\n",
    "print(f)\n",
    "print(type(f))\n",
    "\n",
    "#string\n",
    "s = str(n)\n",
    "print(s)\n",
    "print(type(s))"
   ]
  },
  {
   "cell_type": "code",
   "execution_count": 7,
   "id": "5b04db0b-9dc5-4c86-8ec9-4d2d47f76abf",
   "metadata": {},
   "outputs": [
    {
     "name": "stdout",
     "output_type": "stream",
     "text": [
      "a is not b\n",
      "a is c\n"
     ]
    }
   ],
   "source": [
    "a = [5, 8]\n",
    "b = [5, 8]\n",
    "c = a\n",
    "\n",
    "if a is not b:\n",
    "\tprint('a is not b')\n",
    "else:\n",
    "\tprint('a is b')\n",
    "\n",
    "if a is not c:\n",
    "\tprint('a is not c')\n",
    "else:\n",
    "\tprint('a is c')"
   ]
  },
  {
   "cell_type": "code",
   "execution_count": null,
   "id": "90ce96a2-19c0-48fc-88d6-eaf08e817868",
   "metadata": {},
   "outputs": [],
   "source": []
  },
  {
   "cell_type": "code",
   "execution_count": null,
   "id": "31d28f4d-1932-4997-b598-9291824d3a2f",
   "metadata": {},
   "outputs": [],
   "source": []
  },
  {
   "cell_type": "code",
   "execution_count": null,
   "id": "500aa405-f834-4d96-8198-2d04b4d03c9c",
   "metadata": {},
   "outputs": [],
   "source": []
  },
  {
   "cell_type": "code",
   "execution_count": null,
   "id": "98fc16b5-a4cb-4eb4-b0ae-a05bb678b6a5",
   "metadata": {},
   "outputs": [],
   "source": []
  },
  {
   "cell_type": "code",
   "execution_count": null,
   "id": "08f74cbf-8061-4df6-abaa-9e08a70566e2",
   "metadata": {},
   "outputs": [],
   "source": [
    "mul = lambda a,b: a*b\n",
    "#call lambda function\n",
    "result = mul(5,3)\n",
    "print(result)"
   ]
  },
  {
   "cell_type": "code",
   "execution_count": null,
   "id": "89b85f3e-2273-4754-97f5-d74931d7b43f",
   "metadata": {},
   "outputs": [],
   "source": []
  }
 ],
 "metadata": {
  "kernelspec": {
   "display_name": "Python 3 (ipykernel)",
   "language": "python",
   "name": "python3"
  },
  "language_info": {
   "codemirror_mode": {
    "name": "ipython",
    "version": 3
   },
   "file_extension": ".py",
   "mimetype": "text/x-python",
   "name": "python",
   "nbconvert_exporter": "python",
   "pygments_lexer": "ipython3",
   "version": "3.9.10"
  }
 },
 "nbformat": 4,
 "nbformat_minor": 5
}
